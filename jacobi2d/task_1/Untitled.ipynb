{
 "cells": [
  {
   "cell_type": "code",
   "execution_count": 2,
   "metadata": {},
   "outputs": [],
   "source": [
    "import matplotlib.pyplot as plt\n",
    "import numpy as np"
   ]
  },
  {
   "cell_type": "code",
   "execution_count": 3,
   "metadata": {},
   "outputs": [],
   "source": [
    "#M = 100 || N =100 || Tol = 0.0001\n",
    "standard = np.array([826093,820486,814984,815634,819074])\n",
    "fast = np.array([207325, 208854, 212318, 210051, 209593])\n",
    "one = np.array([394247, 408388, 401503, 393723, 381361])\n",
    "two = np.array([210712, 212367, 203528, 201373, 209274])\n",
    "three = np.array([225482, 226027, 225170, 228484, 226093])\n",
    "size = np.array([241421, 239952, 244099, 231145, 240885])"
   ]
  },
  {
   "cell_type": "code",
   "execution_count": null,
   "metadata": {},
   "outputs": [],
   "source": []
  }
 ],
 "metadata": {
  "kernelspec": {
   "display_name": "Python 3",
   "language": "python",
   "name": "python3"
  },
  "language_info": {
   "codemirror_mode": {
    "name": "ipython",
    "version": 3
   },
   "file_extension": ".py",
   "mimetype": "text/x-python",
   "name": "python",
   "nbconvert_exporter": "python",
   "pygments_lexer": "ipython3",
   "version": "3.7.9"
  }
 },
 "nbformat": 4,
 "nbformat_minor": 4
}
